{
 "cells": [
  {
   "cell_type": "code",
   "execution_count": 1,
   "metadata": {},
   "outputs": [],
   "source": [
    "import nltk\n",
    "from nltk import word_tokenize\n",
    "import re\n"
   ]
  },
  {
   "cell_type": "code",
   "execution_count": 2,
   "metadata": {},
   "outputs": [],
   "source": [
    "def printSomeIterable(someIter):\n",
    "    for w in someIter:\n",
    "        print(w)\n"
   ]
  },
  {
   "cell_type": "code",
   "execution_count": 3,
   "metadata": {},
   "outputs": [],
   "source": [
    "with open(\"shortDoc\", \"r\") as f:\n",
    "    contents = f.read()\n"
   ]
  },
  {
   "cell_type": "code",
   "execution_count": 4,
   "metadata": {},
   "outputs": [],
   "source": [
    "#print(contents)\n",
    "docWords = word_tokenize(contents)\n",
    "vocab = set(docWords)\n",
    "bg = nltk.bigrams(docWords)"
   ]
  },
  {
   "cell_type": "code",
   "execution_count": 5,
   "metadata": {},
   "outputs": [],
   "source": [
    "#printSomeIterable(bg)"
   ]
  },
  {
   "cell_type": "code",
   "execution_count": 6,
   "metadata": {},
   "outputs": [
    {
     "data": {
      "text/plain": [
       "456"
      ]
     },
     "execution_count": 6,
     "metadata": {},
     "output_type": "execute_result"
    }
   ],
   "source": [
    "bgList = list(bg)\n",
    "#print(bgList)\n",
    "len(bgList)"
   ]
  },
  {
   "cell_type": "code",
   "execution_count": 7,
   "metadata": {},
   "outputs": [
    {
     "name": "stdout",
     "output_type": "stream",
     "text": [
      "Number of sentences 52\n"
     ]
    }
   ],
   "source": [
    "sents = contents.split(\"\\n\")\n",
    "print(\"Number of sentences {}\".format(len(sents)) )"
   ]
  },
  {
   "cell_type": "code",
   "execution_count": 8,
   "metadata": {},
   "outputs": [
    {
     "name": "stdout",
     "output_type": "stream",
     "text": [
      "Not found\n"
     ]
    }
   ],
   "source": [
    "st = (\"HIDDEN\", \"COBRA\")\n",
    "if st in bg:\n",
    "    print(\"Found\")\n",
    "else:\n",
    "    print(\"Not found\")"
   ]
  },
  {
   "cell_type": "code",
   "execution_count": 9,
   "metadata": {},
   "outputs": [],
   "source": [
    "printSomeIterable(bg)"
   ]
  },
  {
   "cell_type": "code",
   "execution_count": 10,
   "metadata": {},
   "outputs": [],
   "source": [
    "#print(bgList)\n",
    "count = 0\n",
    "for tp in bgList:\n",
    "    #print(\"Testing Tuple: \" + str(tp))\n",
    "    if st in tp:\n",
    "       count += 1\n",
    "\n",
    "\n",
    "\n"
   ]
  },
  {
   "cell_type": "code",
   "execution_count": 11,
   "metadata": {},
   "outputs": [
    {
     "name": "stdout",
     "output_type": "stream",
     "text": [
      "Found: + 0 instances of ('HIDDEN', 'COBRA') \n",
      "[('as', 'HIDDENCOBRA'), ('HIDDENCOBRA', '.'), ('.', 'For'), ('For', 'more'), ('more', 'information'), ('information', 'on'), ('on', 'HIDDENCOBRA'), ('HIDDENCOBRA', 'activity'), ('activity', ','), (',', 'visit'), ('visit', 'https'), ('https', '['), ('[', ':'), (':', ']'), (']', '//www'), ('//www', '['), ('[', '.'), ('.', ']'), (']', 'us-cert.gov'), ('us-cert.gov', '/hiddencobra'), ('/hiddencobra', '.'), ('.', 'FBI'), ('FBI', 'has'), ('has', 'high'), ('high', 'confidence'), ('confidence', 'that'), ('that', 'HIDDEN'), ('HIDDEN', 'COBRA'), ('COBRA', 'actors'), ('actors', 'are')]\n"
     ]
    }
   ],
   "source": [
    "print(\"Found: + {} instances of {} \".format(count, st)) \n",
    "print(bgList[220:250])"
   ]
  },
  {
   "cell_type": "code",
   "execution_count": 12,
   "metadata": {},
   "outputs": [
    {
     "name": "stdout",
     "output_type": "stream",
     "text": [
      "52\n"
     ]
    }
   ],
   "source": [
    "print(len(sents))\n"
   ]
  },
  {
   "cell_type": "code",
   "execution_count": 13,
   "metadata": {},
   "outputs": [
    {
     "name": "stdout",
     "output_type": "stream",
     "text": [
      "['government as HIDDENCOBRA. For more information on HIDDENCOBRA activity, visit https[:]//www[.]us-cert.gov ', '/hiddencobra. ', ' FBI has high confidence that HIDDEN COBRA actors are using malware variants in conjunction with proxy servers to maintain a presence on ', ' This MAR includes malware descriptions related to HIDDEN COBRA, suggested response actions and recommended mitigation techniques. ']\n",
      "4\n"
     ]
    }
   ],
   "source": [
    "matches = [s for s in sents if re.search(\"HIDDEN ?COBRA\", s, re.IGNORECASE)]\n",
    "print(matches)\n",
    "print(len(matches))\n"
   ]
  },
  {
   "cell_type": "code",
   "execution_count": 14,
   "metadata": {},
   "outputs": [
    {
     "data": {
      "text/plain": [
       "'government as HIDDENCOBRA. For more information on HIDDENCOBRA activity, visit https[:]//www[.]us-cert.gov '"
      ]
     },
     "execution_count": 14,
     "metadata": {},
     "output_type": "execute_result"
    }
   ],
   "source": [
    "sents[24]"
   ]
  },
  {
   "cell_type": "code",
   "execution_count": null,
   "metadata": {},
   "outputs": [],
   "source": []
  },
  {
   "cell_type": "code",
   "execution_count": null,
   "metadata": {},
   "outputs": [],
   "source": []
  },
  {
   "cell_type": "code",
   "execution_count": null,
   "metadata": {},
   "outputs": [],
   "source": []
  },
  {
   "cell_type": "code",
   "execution_count": null,
   "metadata": {},
   "outputs": [],
   "source": []
  }
 ],
 "metadata": {
  "kernelspec": {
   "display_name": "Python 3",
   "language": "python",
   "name": "python3"
  },
  "language_info": {
   "codemirror_mode": {
    "name": "ipython",
    "version": 3
   },
   "file_extension": ".py",
   "mimetype": "text/x-python",
   "name": "python",
   "nbconvert_exporter": "python",
   "pygments_lexer": "ipython3",
   "version": "3.6.8"
  }
 },
 "nbformat": 4,
 "nbformat_minor": 2
}
