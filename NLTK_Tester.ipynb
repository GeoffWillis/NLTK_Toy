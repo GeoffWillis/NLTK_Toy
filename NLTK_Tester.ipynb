{
 "cells": [
  {
   "cell_type": "code",
   "execution_count": 18,
   "metadata": {},
   "outputs": [],
   "source": [
    "import nltk\n",
    "from nltk import word_tokenize\n",
    "import re\n",
    "import csv\n"
   ]
  },
  {
   "cell_type": "code",
   "execution_count": 19,
   "metadata": {},
   "outputs": [],
   "source": [
    "def printSomeIterable(someIter):\n",
    "    for w in someIter:\n",
    "        print(w)\n"
   ]
  },
  {
   "cell_type": "code",
   "execution_count": 25,
   "metadata": {},
   "outputs": [
    {
     "name": "stdout",
     "output_type": "stream",
     "text": [
      "OrderedDict([('SearchTerm', 'North Korean'), ('general_type', 'GOVERNMENT'), ('specific_type', 'COUNTRY')])\n",
      "OrderedDict([('SearchTerm', 'Malware'), ('general_type', 'VIRTUAL'), ('specific_type', 'MALWARE')])\n",
      "OrderedDict([('SearchTerm', 'Trojan'), ('general_type', 'VIRTUAL'), ('specific_type', 'MALWARE')])\n",
      "OrderedDict([('SearchTerm', 'HARDRAIN'), ('general_type', 'POINT'), ('specific_type', 'ORG')])\n",
      "OrderedDict([('SearchTerm', 'HIDDEN COBRA'), ('general_type', 'POINT '), ('specific_type', 'ORG')])\n",
      "OrderedDict([('SearchTerm', 'FBI'), ('general_type', 'POINT'), ('specific_type', 'ORG')])\n",
      "OrderedDict([('SearchTerm', 'Android'), ('general_type', 'VIRTUAL'), ('specific_type', 'OS')])\n",
      "OrderedDict([('SearchTerm', 'Remote Access Tool'), ('general_type', 'VIRTUAL'), ('specific_type', 'MALWARE')])\n",
      "OrderedDict([('SearchTerm', 'Joanap'), ('general_type', 'VIRTUAL'), ('specific_type', 'MALWARE')])\n",
      "OrderedDict([('SearchTerm', 'Brambul'), ('general_type', 'VIRTUAL'), ('specific_type', 'MALWARE')])\n",
      "OrderedDict([('SearchTerm', 'Server Message Block'), ('general_type', 'VIRTUAL'), ('specific_type', 'MALWARE')])\n",
      "OrderedDict([('SearchTerm', 'North Korea'), ('general_type', 'GOVERNMENT'), ('specific_type', 'COUNTRY')])\n",
      "OrderedDict([('SearchTerm', 'mssscardprv.ax'), ('general_type', 'VIRTUAL'), ('specific_type', 'MALWARE')])\n",
      "OrderedDict([('SearchTerm', 'KEYMARBLE'), ('general_type', 'VIRTUAL'), ('specific_type', 'MALWARE')])\n",
      "OrderedDict([('SearchTerm', 'BADCALL'), ('general_type', 'VIRTUAL'), ('specific_type', 'MALWARE'), (None, [''])])\n"
     ]
    },
    {
     "data": {
      "text/plain": [
       "csv.DictReader"
      ]
     },
     "execution_count": 25,
     "metadata": {},
     "output_type": "execute_result"
    }
   ],
   "source": [
    "with open(\"CyberDocAsText.txt\", \"r\") as f:\n",
    "    contents = f.read()\n",
    "    \n",
    "with open(\"cyberSearchTerms.csv\", \"r\") as st:\n",
    "    searchTerms = csv.DictReader(st)\n",
    "    for t in searchTerms:\n",
    "        print(t)\n",
    "\n",
    "type(searchTerms)"
   ]
  },
  {
   "cell_type": "code",
   "execution_count": 4,
   "metadata": {},
   "outputs": [],
   "source": [
    "#print(contents)\n",
    "docWords = word_tokenize(contents)\n",
    "vocab = set(docWords)\n",
    "bg = list(nltk.bigrams(docWords))\n",
    "#printSomeIterable(bg)\n",
    "sents = contents.split(\"\\n\")"
   ]
  },
  {
   "cell_type": "code",
   "execution_count": 5,
   "metadata": {
    "scrolled": true
   },
   "outputs": [
    {
     "name": "stdout",
     "output_type": "stream",
     "text": [
      "Number of Words: 3317\n",
      "Number of Unique words: 1091\n",
      "Number of Sentences: 953 \n",
      "Number of Bigrams: 3316\n"
     ]
    }
   ],
   "source": [
    "print(\"Number of Words: {}\".format(len(docWords)))\n",
    "print(\"Number of Unique words: {}\".format(len(vocab)))\n",
    "print(\"Number of Sentences: {} \".format(len(sents)))\n",
    "print(\"Number of Bigrams: {}\".format(len(bg)))\n"
   ]
  },
  {
   "cell_type": "code",
   "execution_count": 6,
   "metadata": {},
   "outputs": [
    {
     "name": "stdout",
     "output_type": "stream",
     "text": [
      "Tuple Match in bigram: ('HIDDEN', 'COBRA')\n",
      "Tuple Match in bigram: ('HIDDEN', 'COBRA')\n",
      "Tuple Match in bigram: ('HIDDEN', 'COBRA')\n",
      "Tuple Match in bigram: ('HIDDEN', 'COBRA')\n"
     ]
    }
   ],
   "source": [
    "st = (\"HIDDEN\", \"COBRA\")\n",
    "for tp in bg:\n",
    "    #print(\"Testing bigram: \" + str(tp))\n",
    "    if st == tp:\n",
    "        print(\"Tuple Match in bigram: \" + str(tp))\n",
    "    else:\n",
    "        pass\n",
    "        #print(\"No match using Bigrams\")\n"
   ]
  },
  {
   "cell_type": "code",
   "execution_count": 7,
   "metadata": {},
   "outputs": [
    {
     "name": "stdout",
     "output_type": "stream",
     "text": [
      "Tuple Match: ('HIDDEN', 'COBRA') \tIndex: 221\n",
      "Tuple Match: ('HIDDEN', 'COBRA') \tIndex: 228\n",
      "Tuple Match: ('HIDDEN', 'COBRA') \tIndex: 249\n",
      "Tuple Match: ('HIDDEN', 'COBRA') \tIndex: 303\n",
      "Found: + 4 instances of ('HIDDEN', 'COBRA') \n"
     ]
    }
   ],
   "source": [
    "count = 0\n",
    "for index, tp in enumerate(bg):\n",
    "    if st == tp:\n",
    "        print(\"Tuple Match: {} \\tIndex: {}\".format(tp,index) )\n",
    "        count += 1\n",
    "        \n",
    "print(\"Found: + {} instances of {} \".format(count, st)) \n"
   ]
  },
  {
   "cell_type": "code",
   "execution_count": 10,
   "metadata": {},
   "outputs": [
    {
     "name": "stdout",
     "output_type": "stream",
     "text": [
      "['government as HIDDEN COBRA. For more information on HIDDEN COBRA activity, visit https[:]//www[.]us-cert.gov ', '/hiddencobra. ', ' FBI has high confidence that HIDDEN COBRA actors are using malware variants in conjunction with proxy servers to maintain a presence on ', ' This MAR includes malware descriptions related to HIDDEN COBRA, suggested response actions and recommended mitigation techniques. ', 'description = \\\\\"Will Identify Hidden Cobra Android RAT\\\\\" ']\n",
      "There were 5 search term matches using RegEx\n"
     ]
    },
    {
     "data": {
      "text/plain": [
       "['government as HIDDEN COBRA. For more information on HIDDEN COBRA activity, visit https[:]//www[.]us-cert.gov ',\n",
       " '/hiddencobra. ',\n",
       " ' FBI has high confidence that HIDDEN COBRA actors are using malware variants in conjunction with proxy servers to maintain a presence on ',\n",
       " ' This MAR includes malware descriptions related to HIDDEN COBRA, suggested response actions and recommended mitigation techniques. ',\n",
       " 'description = \\\\\"Will Identify Hidden Cobra Android RAT\\\\\" ']"
      ]
     },
     "execution_count": 10,
     "metadata": {},
     "output_type": "execute_result"
    }
   ],
   "source": [
    "matches = [s for s in sents if re.search(\"HIDDEN ?COBRA\", s, re.IGNORECASE)]\n",
    "print(matches)\n",
    "print(\"There were {} search term matches using RegEx\".format(len(matches)))\n",
    "# Note RegEx also caught HIDDENCOBRA with no spaces\n",
    "matches\n"
   ]
  },
  {
   "cell_type": "code",
   "execution_count": 9,
   "metadata": {},
   "outputs": [
    {
     "data": {
      "text/plain": [
       "'government as HIDDEN COBRA. For more information on HIDDEN COBRA activity, visit https[:]//www[.]us-cert.gov '"
      ]
     },
     "execution_count": 9,
     "metadata": {},
     "output_type": "execute_result"
    }
   ],
   "source": [
    "sents[24]"
   ]
  }
 ],
 "metadata": {
  "kernelspec": {
   "display_name": "Python 3",
   "language": "python",
   "name": "python3"
  },
  "language_info": {
   "codemirror_mode": {
    "name": "ipython",
    "version": 3
   },
   "file_extension": ".py",
   "mimetype": "text/x-python",
   "name": "python",
   "nbconvert_exporter": "python",
   "pygments_lexer": "ipython3",
   "version": "3.6.8"
  }
 },
 "nbformat": 4,
 "nbformat_minor": 2
}
