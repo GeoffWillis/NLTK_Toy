{
 "cells": [
  {
   "cell_type": "code",
   "execution_count": 1,
   "metadata": {},
   "outputs": [],
   "source": [
    "import nltk\n",
    "from nltk import word_tokenize\n",
    "import re\n",
    "import csv\n"
   ]
  },
  {
   "cell_type": "code",
   "execution_count": 2,
   "metadata": {},
   "outputs": [],
   "source": [
    "searchTermDict = {} #loaded from CSV\n",
    "docText = [] #Every word and puctuation, in order\n",
    "docWords = [] #Only alpha-numeric data"
   ]
  },
  {
   "cell_type": "code",
   "execution_count": 3,
   "metadata": {},
   "outputs": [],
   "source": [
    "def printSomeIterable(someIter):\n",
    "    for w in someIter:\n",
    "        print(w)\n"
   ]
  },
  {
   "cell_type": "code",
   "execution_count": 4,
   "metadata": {},
   "outputs": [],
   "source": [
    "with open(\"../../data/medicalSearchTerms.csv\", \"r\") as st:\n",
    "    csvReader = csv.reader(st)\n",
    "    for index, t in enumerate(csvReader):\n",
    "        if index > 0:\n",
    "            searchTermDict[t[0]] = {\"GeneralType\":t[1], \"SpecificType\":t[2]}\n",
    "\n",
    "#printSomeIterable(searchTermDict.keys())\n",
    "#print(\"*\"*80)\n",
    "#printSomeIterable(searchTermDict.values())"
   ]
  },
  {
   "cell_type": "code",
   "execution_count": 5,
   "metadata": {},
   "outputs": [],
   "source": [
    "with open(\"../../data/shortNeuroReport\", \"r\") as f:\n",
    "    contents = f.read()\n",
    "    \n",
    "#print(contents)"
   ]
  },
  {
   "cell_type": "code",
   "execution_count": 6,
   "metadata": {},
   "outputs": [],
   "source": [
    "docText = word_tokenize(contents)\n",
    "docWords = [w for w in docText if w.isalnum()]\n",
    "sents = contents.split(\"\\n\")\n",
    "vocab = set(docWords)\n",
    "tg = list(nltk.trigrams(docWords))"
   ]
  },
  {
   "cell_type": "code",
   "execution_count": 7,
   "metadata": {
    "scrolled": false
   },
   "outputs": [
    {
     "name": "stdout",
     "output_type": "stream",
     "text": [
      "*CURRENT FUNCTIONING: *The patient reported that she had experienced\n",
      "some difficulty completing paperwork on time due primarily to the\n",
      "chaoticness of the work environment and the excessive amount of\n",
      "responsibility that was placed upon her. When asked about changes in\n",
      "cognitive functioning, she denied noticing any decline in problem\n",
      "solving, language, or nonverbal skills. She also denied any problems\n",
      "with attention and concentration or forgetfulness or memory problems.\n",
      "She continues to independently perform all activities of daily living.\n",
      "She is in charge of the household finances, has had no problems paying\n",
      "bills on time, has had no difficulties with driving or accidents, denied\n",
      "any missed appointments and said that no one has provided feedback to\n",
      "her that they have noticed any changes in her cognitive functioning. She\n",
      "reported that if her children had noticed anything they definitely would\n",
      "have brought it to her attention. She said that she does not currently\n",
      "have a lawyer and does not intend to return to her previous physician.\n",
      "She said she has not yet proceeded with the application for disability\n",
      "retirement because she was told that her doctors would have to fill out\n",
      "that paperwork, but they have not claimed that she is disabled and so\n",
      "she is waiting for the doctors at her former workplace to initiate the\n",
      "application. Other current symptoms include excessive fatigue. She\n",
      "reported that she was diagnosed with chronic fatigue syndrome in 1991,\n",
      "but generally symptoms are under better control now, but she still has\n",
      "difficulty secondary to fibromyalgia. She also reported having fallen\n",
      "approximately five times within the past year. She said that this\n",
      "typically occurs when she is climbing up steps and is usually related to\n",
      "her right foot “like dragging.” Dr. X’s physical examination revealed no\n",
      "appreciable focal peripheral deficits on motor or sensory testing and\n",
      "notes that perhaps these falls are associated with some stiffness and\n",
      "pain of her right hip and knee, which are chronic symptoms from her\n",
      "fibromyalgia and osteoarthritis. She said that she occasionally bumps\n",
      "into objects, but denied noticing it happening one on any particular\n",
      "part of her body. Muscle pain secondary to fibromyalgia reportedly\n",
      "occurs in her neck and shoulders down both arms and in her left hip.\n",
      "\n",
      "\n"
     ]
    }
   ],
   "source": [
    "print(contents)\n",
    "#printSomeIterable(sents)\n",
    "#printSomeIterable(docText)\n",
    "#printSomeIterable(docWords)\n",
    "#printSomeIterable(tg)\n",
    "#printSomeIterable(vocab)"
   ]
  },
  {
   "cell_type": "code",
   "execution_count": 8,
   "metadata": {},
   "outputs": [
    {
     "data": {
      "text/plain": [
       "('chronic', 'fatigue', 'syndrome')"
      ]
     },
     "execution_count": 8,
     "metadata": {},
     "output_type": "execute_result"
    }
   ],
   "source": [
    "tg[227] #We know the trigrams contians the search term \"chronic fatigue syndrome\"\n"
   ]
  },
  {
   "cell_type": "code",
   "execution_count": 9,
   "metadata": {
    "scrolled": false
   },
   "outputs": [
    {
     "name": "stdout",
     "output_type": "stream",
     "text": [
      "Number of Words: 398\n",
      "Number of Sentences: 35 \n",
      "Number of alpah/num words 365\n",
      "Number of Unique words: 195\n",
      "Number of Bigrams: 363\n"
     ]
    }
   ],
   "source": [
    "print(\"Number of Words: {}\".format(len(docText)))\n",
    "print(\"Number of Sentences: {} \".format(len(sents)))\n",
    "print(\"Number of alpah/num words {}\".format(len(docWords)))\n",
    "print(\"Number of Unique words: {}\".format(len(vocab)))\n",
    "print(\"Number of Bigrams: {}\".format(len(tg)))\n"
   ]
  },
  {
   "cell_type": "code",
   "execution_count": 10,
   "metadata": {},
   "outputs": [
    {
     "name": "stdout",
     "output_type": "stream",
     "text": [
      "Tuple Match in trigram: ('chronic', 'fatigue', 'syndrome')\n"
     ]
    }
   ],
   "source": [
    "st = ('chronic', 'fatigue', 'syndrome')\n",
    "for tp in tg: # Search by tuple match\n",
    "    if st == tp:\n",
    "        print(f\"Tuple Match in trigram: {tp}\")\n"
   ]
  },
  {
   "cell_type": "code",
   "execution_count": 11,
   "metadata": {},
   "outputs": [
    {
     "name": "stdout",
     "output_type": "stream",
     "text": [
      "Tuple Match: ('chronic', 'fatigue', 'syndrome') \tIndex: 227\n",
      "Found: + 1 instances of ('chronic', 'fatigue', 'syndrome') \n"
     ]
    }
   ],
   "source": [
    "count = 0\n",
    "for index, tp in enumerate(tg): # Search by tuple match, but grab the index\n",
    "    if st == tp:\n",
    "        print(\"Tuple Match: {} \\tIndex: {}\".format(tp,index) )\n",
    "        count += 1\n",
    "        \n",
    "print(\"Found: + {} instances of {} \".format(count, st)) \n"
   ]
  },
  {
   "cell_type": "code",
   "execution_count": 12,
   "metadata": {},
   "outputs": [
    {
     "name": "stdout",
     "output_type": "stream",
     "text": [
      "['reported that she was diagnosed with chronic fatigue syndrome in 1991,']\n",
      "There were 1 search term matches using RegEx\n"
     ]
    }
   ],
   "source": [
    "# Find using RegEx on the sentences\n",
    "matches = [s for s in sents if re.search(\"chronic ?fatigue ?syndrome\", s, re.IGNORECASE)]\n",
    "print(matches)\n",
    "print(\"There were {} search term matches using RegEx\".format(len(matches)))"
   ]
  },
  {
   "cell_type": "code",
   "execution_count": 13,
   "metadata": {},
   "outputs": [
    {
     "data": {
      "text/plain": [
       "'reported that she was diagnosed with chronic fatigue syndrome in 1991,'"
      ]
     },
     "execution_count": 13,
     "metadata": {},
     "output_type": "execute_result"
    }
   ],
   "source": [
    "sents[20]"
   ]
  },
  {
   "cell_type": "code",
   "execution_count": null,
   "metadata": {},
   "outputs": [],
   "source": []
  }
 ],
 "metadata": {
  "kernelspec": {
   "display_name": "Python 3",
   "language": "python",
   "name": "python3"
  },
  "language_info": {
   "codemirror_mode": {
    "name": "ipython",
    "version": 3
   },
   "file_extension": ".py",
   "mimetype": "text/x-python",
   "name": "python",
   "nbconvert_exporter": "python",
   "pygments_lexer": "ipython3",
   "version": "3.6.8"
  }
 },
 "nbformat": 4,
 "nbformat_minor": 2
}
