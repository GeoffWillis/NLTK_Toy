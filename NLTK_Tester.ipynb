{
 "cells": [
  {
   "cell_type": "code",
   "execution_count": 1,
   "metadata": {},
   "outputs": [],
   "source": [
    "import nltk\n",
    "from nltk import word_tokenize\n",
    "import re\n",
    "import csv\n"
   ]
  },
  {
   "cell_type": "code",
   "execution_count": 2,
   "metadata": {},
   "outputs": [],
   "source": [
    "searchTermDict = {}\n",
    "docText = []\n",
    "docWords = []"
   ]
  },
  {
   "cell_type": "code",
   "execution_count": 3,
   "metadata": {},
   "outputs": [],
   "source": [
    "def printSomeIterable(someIter):\n",
    "    for w in someIter:\n",
    "        print(w)\n"
   ]
  },
  {
   "cell_type": "code",
   "execution_count": 4,
   "metadata": {},
   "outputs": [],
   "source": [
    "with open(\"../../data/cyberSearchTerms.csv\", \"r\") as st:\n",
    "    csvReader = csv.reader(st)\n",
    "    for index, t in enumerate(csvReader):\n",
    "        if index > 0:\n",
    "            searchTermDict[t[0]] = {\"GeneralType\":t[1], \"SpecificType\":t[2]}\n",
    "\n",
    "#printSomeIterable(searchTermDict.keys())\n",
    "#print(\"*\"*80)\n",
    "#printSomeIterable(searchTermDict.values())"
   ]
  },
  {
   "cell_type": "code",
   "execution_count": 5,
   "metadata": {},
   "outputs": [],
   "source": [
    "with open(\"../../data/CyberDocAsText.txt\", \"r\") as f:\n",
    "    contents = f.read()\n",
    "    \n",
    "#print(contents)"
   ]
  },
  {
   "cell_type": "code",
   "execution_count": 6,
   "metadata": {},
   "outputs": [],
   "source": [
    "docText = word_tokenize(contents)\n",
    "docWords = [w for w in docText if w.isalnum()]\n",
    "sents = contents.split(\"\\n\")\n",
    "vocab = set(docWords)\n",
    "bg = list(nltk.bigrams(docWords))"
   ]
  },
  {
   "cell_type": "code",
   "execution_count": 7,
   "metadata": {
    "scrolled": false
   },
   "outputs": [],
   "source": [
    "#print(contents)\n",
    "#printSomeIterable(sents)\n",
    "#printSomeIterable(docText)\n",
    "#printSomeIterable(docWords)\n",
    "#printSomeIterable(bg)\n",
    "#printSomeIterable(vocab)"
   ]
  },
  {
   "cell_type": "code",
   "execution_count": null,
   "metadata": {},
   "outputs": [],
   "source": []
  },
  {
   "cell_type": "code",
   "execution_count": 8,
   "metadata": {
    "scrolled": false
   },
   "outputs": [
    {
     "name": "stdout",
     "output_type": "stream",
     "text": [
      "Number of Words: 3316\n",
      "Number of Sentences: 949 \n",
      "Number of alpah/num words 1871\n",
      "Number of Unique words: 704\n",
      "Number of Bigrams: 1870\n"
     ]
    }
   ],
   "source": [
    "print(\"Number of Words: {}\".format(len(docText)))\n",
    "print(\"Number of Sentences: {} \".format(len(sents)))\n",
    "print(\"Number of alpah/num words {}\".format(len(docWords)))\n",
    "print(\"Number of Unique words: {}\".format(len(vocab)))\n",
    "print(\"Number of Bigrams: {}\".format(len(bg)))\n"
   ]
  },
  {
   "cell_type": "code",
   "execution_count": 9,
   "metadata": {},
   "outputs": [
    {
     "name": "stdout",
     "output_type": "stream",
     "text": [
      "Tuple Match in bigram: ('HIDDEN', 'COBRA')\n",
      "Tuple Match in bigram: ('HIDDEN', 'COBRA')\n",
      "Tuple Match in bigram: ('HIDDEN', 'COBRA')\n",
      "Tuple Match in bigram: ('HIDDEN', 'COBRA')\n"
     ]
    }
   ],
   "source": [
    "st = (\"HIDDEN\", \"COBRA\")\n",
    "for tp in bg:\n",
    "    #print(\"Testing bigram: \" + str(tp))\n",
    "    if st == tp:\n",
    "        print(\"Tuple Match in bigram: \" + str(tp))\n",
    "    else:\n",
    "        pass\n",
    "        #print(\"No match using Bigrams\")\n"
   ]
  },
  {
   "cell_type": "code",
   "execution_count": 10,
   "metadata": {},
   "outputs": [
    {
     "name": "stdout",
     "output_type": "stream",
     "text": [
      "Tuple Match: ('HIDDEN', 'COBRA') \tIndex: 175\n",
      "Tuple Match: ('HIDDEN', 'COBRA') \tIndex: 181\n",
      "Tuple Match: ('HIDDEN', 'COBRA') \tIndex: 191\n",
      "Tuple Match: ('HIDDEN', 'COBRA') \tIndex: 243\n",
      "Found: + 4 instances of ('HIDDEN', 'COBRA') \n"
     ]
    }
   ],
   "source": [
    "count = 0\n",
    "for index, tp in enumerate(bg):\n",
    "    if st == tp:\n",
    "        print(\"Tuple Match: {} \\tIndex: {}\".format(tp,index) )\n",
    "        count += 1\n",
    "        \n",
    "print(\"Found: + {} instances of {} \".format(count, st)) \n"
   ]
  },
  {
   "cell_type": "code",
   "execution_count": 11,
   "metadata": {},
   "outputs": [
    {
     "name": "stdout",
     "output_type": "stream",
     "text": [
      "['government as HIDDEN COBRA. For more information on HIDDEN COBRA activity, visit https[:]//www[.]us-cert.gov ', '/hiddencobra. ', ' FBI has high confidence that HIDDEN COBRA actors are using malware variants in conjunction with proxy servers to maintain a presence on ', ' This MAR includes malware descriptions related to HIDDEN COBRA, suggested response actions and recommended mitigation techniques. ', 'description = \\\\\"Will Identify Hidden Cobra Android RAT\\\\\" ']\n",
      "There were 5 search term matches using RegEx\n"
     ]
    },
    {
     "data": {
      "text/plain": [
       "['government as HIDDEN COBRA. For more information on HIDDEN COBRA activity, visit https[:]//www[.]us-cert.gov ',\n",
       " '/hiddencobra. ',\n",
       " ' FBI has high confidence that HIDDEN COBRA actors are using malware variants in conjunction with proxy servers to maintain a presence on ',\n",
       " ' This MAR includes malware descriptions related to HIDDEN COBRA, suggested response actions and recommended mitigation techniques. ',\n",
       " 'description = \\\\\"Will Identify Hidden Cobra Android RAT\\\\\" ']"
      ]
     },
     "execution_count": 11,
     "metadata": {},
     "output_type": "execute_result"
    }
   ],
   "source": [
    "matches = [s for s in sents if re.search(\"HIDDEN ?COBRA\", s, re.IGNORECASE)]\n",
    "print(matches)\n",
    "print(\"There were {} search term matches using RegEx\".format(len(matches)))\n",
    "# Note RegEx also caught HIDDENCOBRA with no spaces\n",
    "matches\n"
   ]
  },
  {
   "cell_type": "code",
   "execution_count": 12,
   "metadata": {},
   "outputs": [
    {
     "data": {
      "text/plain": [
       "'government as HIDDEN COBRA. For more information on HIDDEN COBRA activity, visit https[:]//www[.]us-cert.gov '"
      ]
     },
     "execution_count": 12,
     "metadata": {},
     "output_type": "execute_result"
    }
   ],
   "source": [
    "sents[24]"
   ]
  }
 ],
 "metadata": {
  "kernelspec": {
   "display_name": "Python 3",
   "language": "python",
   "name": "python3"
  },
  "language_info": {
   "codemirror_mode": {
    "name": "ipython",
    "version": 3
   },
   "file_extension": ".py",
   "mimetype": "text/x-python",
   "name": "python",
   "nbconvert_exporter": "python",
   "pygments_lexer": "ipython3",
   "version": "3.6.8"
  }
 },
 "nbformat": 4,
 "nbformat_minor": 2
}
